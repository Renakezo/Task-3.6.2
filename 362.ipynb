{
  "nbformat": 4,
  "nbformat_minor": 0,
  "metadata": {
    "colab": {
      "provenance": []
    },
    "kernelspec": {
      "name": "python3",
      "display_name": "Python 3"
    },
    "language_info": {
      "name": "python"
    }
  },
  "cells": [
    {
      "cell_type": "code",
      "execution_count": null,
      "metadata": {
        "id": "3UA3nXKm-Yi5",
        "colab": {
          "base_uri": "https://localhost:8080/"
        },
        "outputId": "d780ebf5-0f93-4cef-d126-990e96cd8b54"
      },
      "outputs": [
        {
          "output_type": "stream",
          "name": "stdout",
          "text": [
            "Collecting pyspark\n",
            "  Downloading pyspark-3.5.1.tar.gz (317.0 MB)\n",
            "\u001b[2K     \u001b[90m━━━━━━━━━━━━━━━━━━━━━━━━━━━━━━━━━━━━━━━━\u001b[0m \u001b[32m317.0/317.0 MB\u001b[0m \u001b[31m4.0 MB/s\u001b[0m eta \u001b[36m0:00:00\u001b[0m\n",
            "\u001b[?25h  Preparing metadata (setup.py) ... \u001b[?25l\u001b[?25hdone\n",
            "Requirement already satisfied: py4j==0.10.9.7 in /usr/local/lib/python3.10/dist-packages (from pyspark) (0.10.9.7)\n",
            "Building wheels for collected packages: pyspark\n",
            "  Building wheel for pyspark (setup.py) ... \u001b[?25l\u001b[?25hdone\n",
            "  Created wheel for pyspark: filename=pyspark-3.5.1-py2.py3-none-any.whl size=317488493 sha256=6ad9af78bae112f3650fc4df449654f670d50f1434e86c6f16412173e994cffe\n",
            "  Stored in directory: /root/.cache/pip/wheels/80/1d/60/2c256ed38dddce2fdd93be545214a63e02fbd8d74fb0b7f3a6\n",
            "Successfully built pyspark\n",
            "Installing collected packages: pyspark\n",
            "Successfully installed pyspark-3.5.1\n",
            "Collecting install-jdk\n",
            "  Downloading install_jdk-1.1.0-py3-none-any.whl.metadata (12 kB)\n",
            "Downloading install_jdk-1.1.0-py3-none-any.whl (15 kB)\n",
            "Installing collected packages: install-jdk\n",
            "Successfully installed install-jdk-1.1.0\n",
            "Collecting findspark\n",
            "  Downloading findspark-2.0.1-py2.py3-none-any.whl.metadata (352 bytes)\n",
            "Downloading findspark-2.0.1-py2.py3-none-any.whl (4.4 kB)\n",
            "Installing collected packages: findspark\n",
            "Successfully installed findspark-2.0.1\n"
          ]
        }
      ],
      "source": [
        "!pip install pyspark\n",
        "!pip install install-jdk\n",
        "!pip install findspark"
      ]
    },
    {
      "cell_type": "code",
      "source": [
        "from pyspark.sql import SparkSession\n",
        "from datetime import date, timedelta\n",
        "import random\n",
        "\n",
        "spark = SparkSession.builder \\\n",
        "    .appName('Task 3.6.2') \\\n",
        "    .getOrCreate()\n",
        "\n",
        "products = ['Шоколад', 'Чай', 'Кофе', 'Мороженое', 'Орехи']\n",
        "data = []\n",
        "\n",
        "for i in range(1000):\n",
        "  product = random.choice(products)\n",
        "  date = date.today() - timedelta(days=random.randint(1, 365))\n",
        "  userId = random.randint(1, 1000)\n",
        "  price = random.randint(50, 1000)\n",
        "  count = random.randint(1, 30)\n",
        "  data.append({\"Дата\": date, \"UserID\": userId, \"Продукт\": product, \"Количество\": count, \"Цена\": price})\n",
        "\n",
        "df = spark.createDataFrame(data)\n",
        "df.coalesce(1).write.csv('data', header=True)\n",
        "spark.stop()"
      ],
      "metadata": {
        "id": "UEAvxoJ8JCFc"
      },
      "execution_count": 12,
      "outputs": []
    }
  ]
}